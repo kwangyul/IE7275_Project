{
 "cells": [
  {
   "cell_type": "code",
   "execution_count": 1,
   "id": "d9c4382c",
   "metadata": {},
   "outputs": [],
   "source": [
    "import pandas as pd\n",
    "import numpy as np\n",
    "from sklearn.preprocessing import StandardScaler as sc\n",
    "from sklearn.model_selection import train_test_split\n",
    "from sklearn.neighbors import KNeighborsClassifier as knn\n",
    "from sklearn.ensemble import RandomForestClassifier as rf"
   ]
  },
  {
   "cell_type": "markdown",
   "id": "d3047ae0",
   "metadata": {},
   "source": [
    "# Function Design for Classifier\n",
    "## Include data preparation and model eveluation"
   ]
  },
  {
   "cell_type": "code",
   "execution_count": 2,
   "id": "76067b85",
   "metadata": {},
   "outputs": [],
   "source": [
    "# Data preprocess\n",
    "def knnprep(y):\n",
    "    y = str(y)\n",
    "    dataname = '../Data/'+y+'_ParkingLot.csv'\n",
    "    df = pd.read_csv(dataname)\n",
    "    df = df.drop(columns = ['SourceElementKey','BlockfaceName','PaidParkingRate','longitude','latitude'])\n",
    "    df = df.fillna('')\n",
    "    for c in df.columns:\n",
    "        if c != 'ParkingSpaceCount':\n",
    "            df[c] = df[c].astype('category').cat.codes\n",
    "    return(df)\n",
    "# Model evaluation for knn and random forest\n",
    "class classmodelev():\n",
    "    def __init__(self, df):\n",
    "        self.y = df.PaidParkingArea\n",
    "        self.X = df.drop(columns = ['PaidParkingArea'])\n",
    "        self.X_train, self.X_test, self.Y_train, self.Y_test = train_test_split(self.X, self.y, test_size=0.25, random_state=5)\n",
    "    def knnpr(self):\n",
    "        error = []\n",
    "        for k in range(1,20):\n",
    "            Knn = knn(n_neighbors=k)\n",
    "            Knn.fit(self.X_train,self.Y_train)\n",
    "            e = sum(Knn.predict(self.X_test)==self.Y_test)/len(Knn.predict(self.X_test)==self.Y_test)\n",
    "            error.append(e)\n",
    "        print('Best k:', error.index(max(error))+1)\n",
    "        print('Error rate:',max(error))\n",
    "        Knn = knn(n_neighbors=error.index(max(error))+1)\n",
    "        Knn.fit(self.X_train,self.Y_train)\n",
    "        return(Knn)\n",
    "    def rfpr(self):\n",
    "        RandFor =  rf(random_state=0)\n",
    "        RandFor.fit(self.X, self.y)\n",
    "        e = sum(RandFor.predict(self.X_test)==self.Y_test)/len(RandFor.predict(self.X_test)==self.Y_test)\n",
    "        print('Error rate:',e)\n",
    "        return(RandFor)"
   ]
  },
  {
   "cell_type": "code",
   "execution_count": 3,
   "id": "76512230",
   "metadata": {},
   "outputs": [
    {
     "data": {
      "text/plain": "   SideOfStreet  ParkingTimeLimitCategory  ParkingSpaceCount  PaidParkingArea  \\\n0             4                         1                  2                6   \n1             3                         2                  8                3   \n2             5                         1                  6                8   \n3             7                         2                 14               18   \n4             0                         1                  8               13   \n\n   PaidParkingSubArea  ParkingCategory  \n0                   2                1  \n1                   4                1  \n2                   7                1  \n3                   2                1  \n4                   0                1  ",
      "text/html": "<div>\n<style scoped>\n    .dataframe tbody tr th:only-of-type {\n        vertical-align: middle;\n    }\n\n    .dataframe tbody tr th {\n        vertical-align: top;\n    }\n\n    .dataframe thead th {\n        text-align: right;\n    }\n</style>\n<table border=\"1\" class=\"dataframe\">\n  <thead>\n    <tr style=\"text-align: right;\">\n      <th></th>\n      <th>SideOfStreet</th>\n      <th>ParkingTimeLimitCategory</th>\n      <th>ParkingSpaceCount</th>\n      <th>PaidParkingArea</th>\n      <th>PaidParkingSubArea</th>\n      <th>ParkingCategory</th>\n    </tr>\n  </thead>\n  <tbody>\n    <tr>\n      <th>0</th>\n      <td>4</td>\n      <td>1</td>\n      <td>2</td>\n      <td>6</td>\n      <td>2</td>\n      <td>1</td>\n    </tr>\n    <tr>\n      <th>1</th>\n      <td>3</td>\n      <td>2</td>\n      <td>8</td>\n      <td>3</td>\n      <td>4</td>\n      <td>1</td>\n    </tr>\n    <tr>\n      <th>2</th>\n      <td>5</td>\n      <td>1</td>\n      <td>6</td>\n      <td>8</td>\n      <td>7</td>\n      <td>1</td>\n    </tr>\n    <tr>\n      <th>3</th>\n      <td>7</td>\n      <td>2</td>\n      <td>14</td>\n      <td>18</td>\n      <td>2</td>\n      <td>1</td>\n    </tr>\n    <tr>\n      <th>4</th>\n      <td>0</td>\n      <td>1</td>\n      <td>8</td>\n      <td>13</td>\n      <td>0</td>\n      <td>1</td>\n    </tr>\n  </tbody>\n</table>\n</div>"
     },
     "execution_count": 3,
     "metadata": {},
     "output_type": "execute_result"
    }
   ],
   "source": [
    "df2018 = knnprep(2018)\n",
    "df2018.head()"
   ]
  },
  {
   "cell_type": "markdown",
   "id": "843da996",
   "metadata": {},
   "source": [
    "# Model evaluation for each year"
   ]
  },
  {
   "cell_type": "code",
   "execution_count": 4,
   "id": "d17754a7",
   "metadata": {},
   "outputs": [
    {
     "name": "stdout",
     "output_type": "stream",
     "text": [
      "knn\n",
      "Best k: 4\n",
      "Error rate: 0.5396825396825397\n",
      "Random Forest\n",
      "Error rate: 0.8412698412698413\n"
     ]
    }
   ],
   "source": [
    "performance2018 = classmodelev(df2018)\n",
    "print('knn')\n",
    "model2018knn = performance2018.knnpr()\n",
    "print('Random Forest')\n",
    "model2018rf = performance2018.rfpr()"
   ]
  },
  {
   "cell_type": "code",
   "execution_count": 5,
   "id": "aee66920",
   "metadata": {},
   "outputs": [
    {
     "name": "stdout",
     "output_type": "stream",
     "text": [
      "knn\n",
      "Best k: 6\n",
      "Error rate: 0.5800524934383202\n",
      "Random Forest\n",
      "Error rate: 0.8713910761154856\n"
     ]
    }
   ],
   "source": [
    "df2019 = knnprep(2019)\n",
    "performance2019 = classmodelev(df2019)\n",
    "print('knn')\n",
    "model2019knn = performance2019.knnpr()\n",
    "print('Random Forest')\n",
    "model2019rf = performance2019.rfpr()"
   ]
  },
  {
   "cell_type": "code",
   "execution_count": 6,
   "id": "4d189e87",
   "metadata": {},
   "outputs": [
    {
     "name": "stdout",
     "output_type": "stream",
     "text": [
      "knn\n",
      "Best k: 1\n",
      "Error rate: 0.5989010989010989\n",
      "Random Forest\n",
      "Error rate: 0.8324175824175825\n"
     ]
    }
   ],
   "source": [
    "df2020 = knnprep(2020)\n",
    "performance2020 = classmodelev(df2020)\n",
    "print('knn')\n",
    "model2020knn = performance2020.knnpr()\n",
    "print('Random Forest')\n",
    "model2020rf = performance2020.rfpr()"
   ]
  },
  {
   "cell_type": "markdown",
   "id": "60424887",
   "metadata": {},
   "source": [
    "# Cross Year Validation"
   ]
  },
  {
   "cell_type": "code",
   "execution_count": 7,
   "id": "40cda92f",
   "metadata": {},
   "outputs": [
    {
     "name": "stdout",
     "output_type": "stream",
     "text": [
      "0.6377952755905512\n",
      "0.6181318681318682\n",
      "0.8503937007874016\n",
      "0.7747252747252747\n"
     ]
    }
   ],
   "source": [
    "cv_y_knn = model2018knn.predict(performance2019.X_test)==performance2019.Y_test\n",
    "print(sum(cv_y_knn)/len(cv_y_knn))\n",
    "cv_y_knn = model2018knn.predict(performance2020.X_test)==performance2020.Y_test\n",
    "print(sum(cv_y_knn)/len(cv_y_knn))\n",
    "cv_y_rf = model2018rf.predict(performance2019.X_test)==performance2019.Y_test\n",
    "print(sum(cv_y_rf)/len(cv_y_rf))\n",
    "cv_y_rf = model2018rf.predict(performance2020.X_test)==performance2020.Y_test\n",
    "print(sum(cv_y_rf)/len(cv_y_rf))"
   ]
  },
  {
   "cell_type": "code",
   "execution_count": 8,
   "id": "fbdb0d6e",
   "metadata": {},
   "outputs": [
    {
     "name": "stdout",
     "output_type": "stream",
     "text": [
      "0.6584022038567493\n",
      "0.6534040671971706\n",
      "0.8512396694214877\n",
      "0.830238726790451\n"
     ]
    }
   ],
   "source": [
    "cv_y_knn = model2019knn.predict(performance2020.X_train)==performance2020.Y_train\n",
    "print(sum(cv_y_knn)/len(cv_y_knn))\n",
    "cv_y_knn = model2019knn.predict(performance2018.X_train)==performance2018.Y_train\n",
    "print(sum(cv_y_knn)/len(cv_y_knn))\n",
    "cv_y_rf = model2019rf.predict(performance2020.X_train)==performance2020.Y_train\n",
    "print(sum(cv_y_rf)/len(cv_y_rf))\n",
    "cv_y_rf = model2019rf.predict(performance2018.X_train)==performance2018.Y_train\n",
    "print(sum(cv_y_rf)/len(cv_y_rf))"
   ]
  },
  {
   "cell_type": "code",
   "execution_count": 9,
   "id": "de597723",
   "metadata": {},
   "outputs": [
    {
     "name": "stdout",
     "output_type": "stream",
     "text": [
      "0.74447391688771\n",
      "0.7620297462817148\n",
      "0.8222811671087533\n",
      "0.8355205599300087\n"
     ]
    }
   ],
   "source": [
    "cv_y_knn = model2020knn.predict(performance2018.X_train)==performance2018.Y_train\n",
    "print(sum(cv_y_knn)/len(cv_y_knn))\n",
    "cv_y_knn = model2020knn.predict(performance2019.X_train)==performance2019.Y_train\n",
    "print(sum(cv_y_knn)/len(cv_y_knn))\n",
    "cv_y_rf = model2020rf.predict(performance2018.X_train)==performance2018.Y_train\n",
    "print(sum(cv_y_rf)/len(cv_y_rf))\n",
    "cv_y_rf = model2020rf.predict(performance2019.X_train)==performance2019.Y_train\n",
    "print(sum(cv_y_rf)/len(cv_y_rf))"
   ]
  }
 ],
 "metadata": {
  "kernelspec": {
   "display_name": "Python 3 (ipykernel)",
   "language": "python",
   "name": "python3"
  },
  "language_info": {
   "codemirror_mode": {
    "name": "ipython",
    "version": 3
   },
   "file_extension": ".py",
   "mimetype": "text/x-python",
   "name": "python",
   "nbconvert_exporter": "python",
   "pygments_lexer": "ipython3",
   "version": "3.8.12"
  }
 },
 "nbformat": 4,
 "nbformat_minor": 5
}