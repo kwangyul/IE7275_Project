{
 "cells": [
  {
   "cell_type": "code",
   "execution_count": 1,
   "outputs": [],
   "source": [
    "import pandas as pd\n",
    "import seaborn as sns"
   ],
   "metadata": {
    "collapsed": false,
    "pycharm": {
     "name": "#%%\n"
    }
   }
  },
  {
   "cell_type": "markdown",
   "source": [
    "## Read Parking Lot Data"
   ],
   "metadata": {
    "collapsed": false,
    "pycharm": {
     "name": "#%% md\n"
    }
   }
  },
  {
   "cell_type": "code",
   "execution_count": 2,
   "outputs": [],
   "source": [
    "# Read 3-year parking lot data and insert into dictionary.\n",
    "df = {}\n",
    "years = (2018, 2019, 2020)\n",
    "url = 'https://raw.githubusercontent.com/kwangyul/IE7275_Project/main/data/'\n",
    "for year in years:\n",
    "    df[year] = pd.read_csv(url + str(year) + '_ParkingLot.csv')"
   ],
   "metadata": {
    "collapsed": false,
    "pycharm": {
     "name": "#%%\n"
    }
   }
  },
  {
   "cell_type": "code",
   "execution_count": 3,
   "outputs": [],
   "source": [
    "# Merge 3-year dataframe and insert into dictionary.\n",
    "for year in years:\n",
    "    df[year]['Year'] = str(year)\n",
    "    df['all'] = pd.concat([df[2018], df[2019], df[2020]], ignore_index=True)"
   ],
   "metadata": {
    "collapsed": false,
    "pycharm": {
     "name": "#%%\n"
    }
   }
  },
  {
   "cell_type": "markdown",
   "source": [
    "## Number of Parking Lot"
   ],
   "metadata": {
    "collapsed": false
   }
  },
  {
   "cell_type": "code",
   "execution_count": 4,
   "outputs": [
    {
     "data": {
      "text/plain": "   Year  Num of Parking Lot\n0  2018                1509\n1  2019                1524\n2  2020                1453",
      "text/html": "<div>\n<style scoped>\n    .dataframe tbody tr th:only-of-type {\n        vertical-align: middle;\n    }\n\n    .dataframe tbody tr th {\n        vertical-align: top;\n    }\n\n    .dataframe thead th {\n        text-align: right;\n    }\n</style>\n<table border=\"1\" class=\"dataframe\">\n  <thead>\n    <tr style=\"text-align: right;\">\n      <th></th>\n      <th>Year</th>\n      <th>Num of Parking Lot</th>\n    </tr>\n  </thead>\n  <tbody>\n    <tr>\n      <th>0</th>\n      <td>2018</td>\n      <td>1509</td>\n    </tr>\n    <tr>\n      <th>1</th>\n      <td>2019</td>\n      <td>1524</td>\n    </tr>\n    <tr>\n      <th>2</th>\n      <td>2020</td>\n      <td>1453</td>\n    </tr>\n  </tbody>\n</table>\n</div>"
     },
     "execution_count": 4,
     "metadata": {},
     "output_type": "execute_result"
    }
   ],
   "source": [
    "result = pd.pivot_table(df['all'], index=['Year'],\n",
    "                        aggfunc='count').iloc[:,0].reset_index().rename(columns={'BlockfaceName':'Num of Parking Lot'})\n",
    "result"
   ],
   "metadata": {
    "collapsed": false,
    "pycharm": {
     "name": "#%%\n"
    }
   }
  },
  {
   "cell_type": "code",
   "execution_count": 5,
   "outputs": [
    {
     "data": {
      "text/plain": "<Figure size 432x288 with 1 Axes>",
      "image/png": "[encoded data removed]"
     },
     "metadata": {
      "needs_background": "light"
     },
     "output_type": "display_data"
    }
   ],
   "source": [
    "ax = sns.barplot(x=\"Num of Parking Lot\", y=\"Year\", data=result)"
   ],
   "metadata": {
    "collapsed": false,
    "pycharm": {
     "name": "#%%\n"
    }
   }
  },
  {
   "cell_type": "markdown",
   "source": [
    "## Paid Parking Area"
   ],
   "metadata": {
    "collapsed": false
   }
  },
  {
   "cell_type": "code",
   "execution_count": 6,
   "outputs": [
    {
     "data": {
      "text/plain": "Year                  2018   2019   2020\nPaidParkingArea                         \n12th Avenue           13.0   13.0   13.0\nBallard               57.0   57.0   56.0\nBallard Locks          3.0    3.0    3.0\nBelltown             254.0  255.0  254.0\nCapitol Hill          40.0   38.0   38.0\nCherry Hill            6.0    6.0    6.0\nChinatown/ID          68.0   68.0   67.0\nColumbia City         10.0   10.0   10.0\nCommercial Core      159.0  153.0  137.0\nDenny Triangle        98.0   94.0   87.0\nFirst Hill           155.0  153.0  151.0\nFremont               11.0   11.0   11.0\nGreen Lake            21.0   21.0   21.0\nPike-Pine            105.0  104.0   92.0\nPioneer Square        92.0   92.0   84.0\nRoosevelt             14.0   12.0   12.0\nSouth Lake Union     220.0  228.0  216.0\nUniversity District   83.0   82.0   82.0\nUptown                75.0   75.0   66.0\nUptown Triangle       25.0   25.0   23.0\nWestlake Ave N         NaN   24.0   24.0",
      "text/html": "<div>\n<style scoped>\n    .dataframe tbody tr th:only-of-type {\n        vertical-align: middle;\n    }\n\n    .dataframe tbody tr th {\n        vertical-align: top;\n    }\n\n    .dataframe thead th {\n        text-align: right;\n    }\n</style>\n<table border=\"1\" class=\"dataframe\">\n  <thead>\n    <tr style=\"text-align: right;\">\n      <th>Year</th>\n      <th>2018</th>\n      <th>2019</th>\n      <th>2020</th>\n    </tr>\n    <tr>\n      <th>PaidParkingArea</th>\n      <th></th>\n      <th></th>\n      <th></th>\n    </tr>\n  </thead>\n  <tbody>\n    <tr>\n      <th>12th Avenue</th>\n      <td>13.0</td>\n      <td>13.0</td>\n      <td>13.0</td>\n    </tr>\n    <tr>\n      <th>Ballard</th>\n      <td>57.0</td>\n      <td>57.0</td>\n      <td>56.0</td>\n    </tr>\n    <tr>\n      <th>Ballard Locks</th>\n      <td>3.0</td>\n      <td>3.0</td>\n      <td>3.0</td>\n    </tr>\n    <tr>\n      <th>Belltown</th>\n      <td>254.0</td>\n      <td>255.0</td>\n      <td>254.0</td>\n    </tr>\n    <tr>\n      <th>Capitol Hill</th>\n      <td>40.0</td>\n      <td>38.0</td>\n      <td>38.0</td>\n    </tr>\n    <tr>\n      <th>Cherry Hill</th>\n      <td>6.0</td>\n      <td>6.0</td>\n      <td>6.0</td>\n    </tr>\n    <tr>\n      <th>Chinatown/ID</th>\n      <td>68.0</td>\n      <td>68.0</td>\n      <td>67.0</td>\n    </tr>\n    <tr>\n      <th>Columbia City</th>\n      <td>10.0</td>\n      <td>10.0</td>\n      <td>10.0</td>\n    </tr>\n    <tr>\n      <th>Commercial Core</th>\n      <td>159.0</td>\n      <td>153.0</td>\n      <td>137.0</td>\n    </tr>\n    <tr>\n      <th>Denny Triangle</th>\n      <td>98.0</td>\n      <td>94.0</td>\n      <td>87.0</td>\n    </tr>\n    <tr>\n      <th>First Hill</th>\n      <td>155.0</td>\n      <td>153.0</td>\n      <td>151.0</td>\n    </tr>\n    <tr>\n      <th>Fremont</th>\n      <td>11.0</td>\n      <td>11.0</td>\n      <td>11.0</td>\n    </tr>\n    <tr>\n      <th>Green Lake</th>\n      <td>21.0</td>\n      <td>21.0</td>\n      <td>21.0</td>\n    </tr>\n    <tr>\n      <th>Pike-Pine</th>\n      <td>105.0</td>\n      <td>104.0</td>\n      <td>92.0</td>\n    </tr>\n    <tr>\n      <th>Pioneer Square</th>\n      <td>92.0</td>\n      <td>92.0</td>\n      <td>84.0</td>\n    </tr>\n    <tr>\n      <th>Roosevelt</th>\n      <td>14.0</td>\n      <td>12.0</td>\n      <td>12.0</td>\n    </tr>\n    <tr>\n      <th>South Lake Union</th>\n      <td>220.0</td>\n      <td>228.0</td>\n      <td>216.0</td>\n    </tr>\n    <tr>\n      <th>University District</th>\n      <td>83.0</td>\n      <td>82.0</td>\n      <td>82.0</td>\n    </tr>\n    <tr>\n      <th>Uptown</th>\n      <td>75.0</td>\n      <td>75.0</td>\n      <td>66.0</td>\n    </tr>\n    <tr>\n      <th>Uptown Triangle</th>\n      <td>25.0</td>\n      <td>25.0</td>\n      <td>23.0</td>\n    </tr>\n    <tr>\n      <th>Westlake Ave N</th>\n      <td>NaN</td>\n      <td>24.0</td>\n      <td>24.0</td>\n    </tr>\n  </tbody>\n</table>\n</div>"
     },
     "execution_count": 6,
     "metadata": {},
     "output_type": "execute_result"
    }
   ],
   "source": [
    "result = pd.pivot_table(df['all'], index=['Year', 'PaidParkingArea'],\n",
    "                        aggfunc='count').iloc[:,0].reset_index().rename(columns={'BlockfaceName':'Count'})\n",
    "result.pivot(index='PaidParkingArea', columns='Year', values='Count')"
   ],
   "metadata": {
    "collapsed": false,
    "pycharm": {
     "name": "#%%\n"
    }
   }
  },
  {
   "cell_type": "code",
   "execution_count": 7,
   "outputs": [
    {
     "data": {
      "text/plain": "<Figure size 432x288 with 1 Axes>",
      "image/png": "[encoded data removed]"
     },
     "metadata": {
      "needs_background": "light"
     },
     "output_type": "display_data"
    }
   ],
   "source": [
    "ax = sns.barplot(x=\"Count\", y=\"PaidParkingArea\", hue=\"Year\", data=result)"
   ],
   "metadata": {
    "collapsed": false,
    "pycharm": {
     "name": "#%%\n"
    }
   }
  },
  {
   "cell_type": "markdown",
   "source": [
    "## ParkingCategory"
   ],
   "metadata": {
    "collapsed": false,
    "pycharm": {
     "name": "#%% md\n"
    }
   }
  },
  {
   "cell_type": "code",
   "execution_count": 8,
   "outputs": [
    {
     "data": {
      "text/plain": "Year                       2018    2019    2020\nParkingCategory                                \nCarpool Parking            17.0    16.0    16.0\nPaid Parking             1390.0  1385.0  1320.0\nRestricted Parking Zone   101.0   122.0   117.0\nUnrestricted Parking        1.0     1.0     NaN",
      "text/html": "<div>\n<style scoped>\n    .dataframe tbody tr th:only-of-type {\n        vertical-align: middle;\n    }\n\n    .dataframe tbody tr th {\n        vertical-align: top;\n    }\n\n    .dataframe thead th {\n        text-align: right;\n    }\n</style>\n<table border=\"1\" class=\"dataframe\">\n  <thead>\n    <tr style=\"text-align: right;\">\n      <th>Year</th>\n      <th>2018</th>\n      <th>2019</th>\n      <th>2020</th>\n    </tr>\n    <tr>\n      <th>ParkingCategory</th>\n      <th></th>\n      <th></th>\n      <th></th>\n    </tr>\n  </thead>\n  <tbody>\n    <tr>\n      <th>Carpool Parking</th>\n      <td>17.0</td>\n      <td>16.0</td>\n      <td>16.0</td>\n    </tr>\n    <tr>\n      <th>Paid Parking</th>\n      <td>1390.0</td>\n      <td>1385.0</td>\n      <td>1320.0</td>\n    </tr>\n    <tr>\n      <th>Restricted Parking Zone</th>\n      <td>101.0</td>\n      <td>122.0</td>\n      <td>117.0</td>\n    </tr>\n    <tr>\n      <th>Unrestricted Parking</th>\n      <td>1.0</td>\n      <td>1.0</td>\n      <td>NaN</td>\n    </tr>\n  </tbody>\n</table>\n</div>"
     },
     "execution_count": 8,
     "metadata": {},
     "output_type": "execute_result"
    }
   ],
   "source": [
    "result = pd.pivot_table(df['all'], index=['Year', 'ParkingCategory'],\n",
    "                        aggfunc='count').iloc[:,0].reset_index().rename(columns={'BlockfaceName':'Count'})\n",
    "result.pivot(index='ParkingCategory', columns='Year', values='Count')"
   ],
   "metadata": {
    "collapsed": false,
    "pycharm": {
     "name": "#%%\n"
    }
   }
  },
  {
   "cell_type": "code",
   "execution_count": 9,
   "outputs": [
    {
     "data": {
      "text/plain": "<Figure size 432x288 with 1 Axes>",
      "image/png": "[encoded data removed]"
     },
     "metadata": {
      "needs_background": "light"
     },
     "output_type": "display_data"
    }
   ],
   "source": [
    "ax = sns.barplot(x=\"Count\", y=\"ParkingCategory\", hue=\"Year\", data=result)"
   ],
   "metadata": {
    "collapsed": false,
    "pycharm": {
     "name": "#%%\n"
    }
   }
  },
  {
   "cell_type": "markdown",
   "source": [
    "## Parking Space Count"
   ],
   "metadata": {
    "collapsed": false,
    "pycharm": {
     "name": "#%% md\n"
    }
   }
  },
  {
   "cell_type": "code",
   "source": [
    "result = pd.pivot_table(df['all'], index=['Year', 'ParkingSpaceCount'],\n",
    "                        aggfunc='count').iloc[:,0].reset_index().rename(columns={'BlockfaceName':'Count'})\n",
    "result.pivot(index='ParkingSpaceCount', columns='Year', values='Count')"
   ],
   "metadata": {
    "collapsed": false,
    "pycharm": {
     "name": "#%%\n"
    }
   },
   "execution_count": 10,
   "outputs": [
    {
     "data": {
      "text/plain": "Year                2018   2019   2020\nParkingSpaceCount                     \n1                   15.0   13.0   12.0\n2                   54.0   55.0   54.0\n3                  109.0  114.0  112.0\n4                  178.0  176.0  166.0\n5                  170.0  176.0  172.0\n6                  178.0  183.0  173.0\n7                  165.0  169.0  162.0\n8                  166.0  159.0  163.0\n9                  119.0  117.0  113.0\n10                 104.0   99.0   94.0\n11                  59.0   55.0   51.0\n12                  39.0   37.0   28.0\n13                  24.0   24.0   20.0\n14                  23.0   20.0   20.0\n15                  24.0   25.0   20.0\n16                  15.0   17.0   15.0\n17                  10.0    9.0    9.0\n18                   8.0    8.0    9.0\n19                  15.0   20.0   14.0\n20                   4.0    5.0    6.0\n21                   3.0    3.0    3.0\n22                   4.0    4.0    2.0\n23                   3.0    4.0    3.0\n24                   1.0    3.0    3.0\n25                   2.0    1.0    1.0\n26                   2.0    2.0    2.0\n27                   4.0    3.0    2.0\n28                   3.0    4.0    4.0\n29                   4.0    2.0    2.0\n31                   NaN    2.0    2.0\n32                   NaN    1.0    3.0\n33                   2.0    3.0    2.0\n34                   NaN    1.0    1.0\n37                   NaN    1.0    1.0\n38                   NaN    1.0    1.0\n39                   1.0    1.0    1.0\n40                   1.0    1.0    1.0\n41                   NaN    1.0    1.0\n44                   NaN    1.0    1.0\n45                   NaN    1.0    1.0\n49                   NaN    1.0    1.0\n53                   NaN    1.0    1.0\n54                   NaN    1.0    1.0",
      "text/html": "<div>\n<style scoped>\n    .dataframe tbody tr th:only-of-type {\n        vertical-align: middle;\n    }\n\n    .dataframe tbody tr th {\n        vertical-align: top;\n    }\n\n    .dataframe thead th {\n        text-align: right;\n    }\n</style>\n<table border=\"1\" class=\"dataframe\">\n  <thead>\n    <tr style=\"text-align: right;\">\n      <th>Year</th>\n      <th>2018</th>\n      <th>2019</th>\n      <th>2020</th>\n    </tr>\n    <tr>\n      <th>ParkingSpaceCount</th>\n      <th></th>\n      <th></th>\n      <th></th>\n    </tr>\n  </thead>\n  <tbody>\n    <tr>\n      <th>1</th>\n      <td>15.0</td>\n      <td>13.0</td>\n      <td>12.0</td>\n    </tr>\n    <tr>\n      <th>2</th>\n      <td>54.0</td>\n      <td>55.0</td>\n      <td>54.0</td>\n    </tr>\n    <tr>\n      <th>3</th>\n      <td>109.0</td>\n      <td>114.0</td>\n      <td>112.0</td>\n    </tr>\n    <tr>\n      <th>4</th>\n      <td>178.0</td>\n      <td>176.0</td>\n      <td>166.0</td>\n    </tr>\n    <tr>\n      <th>5</th>\n      <td>170.0</td>\n      <td>176.0</td>\n      <td>172.0</td>\n    </tr>\n    <tr>\n      <th>6</th>\n      <td>178.0</td>\n      <td>183.0</td>\n      <td>173.0</td>\n    </tr>\n    <tr>\n      <th>7</th>\n      <td>165.0</td>\n      <td>169.0</td>\n      <td>162.0</td>\n    </tr>\n    <tr>\n      <th>8</th>\n      <td>166.0</td>\n      <td>159.0</td>\n      <td>163.0</td>\n    </tr>\n    <tr>\n      <th>9</th>\n      <td>119.0</td>\n      <td>117.0</td>\n      <td>113.0</td>\n    </tr>\n    <tr>\n      <th>10</th>\n      <td>104.0</td>\n      <td>99.0</td>\n      <td>94.0</td>\n    </tr>\n    <tr>\n      <th>11</th>\n      <td>59.0</td>\n      <td>55.0</td>\n      <td>51.0</td>\n    </tr>\n    <tr>\n      <th>12</th>\n      <td>39.0</td>\n      <td>37.0</td>\n      <td>28.0</td>\n    </tr>\n    <tr>\n      <th>13</th>\n      <td>24.0</td>\n      <td>24.0</td>\n      <td>20.0</td>\n    </tr>\n    <tr>\n      <th>14</th>\n      <td>23.0</td>\n      <td>20.0</td>\n      <td>20.0</td>\n    </tr>\n    <tr>\n      <th>15</th>\n      <td>24.0</td>\n      <td>25.0</td>\n      <td>20.0</td>\n    </tr>\n    <tr>\n      <th>16</th>\n      <td>15.0</td>\n      <td>17.0</td>\n      <td>15.0</td>\n    </tr>\n    <tr>\n      <th>17</th>\n      <td>10.0</td>\n      <td>9.0</td>\n      <td>9.0</td>\n    </tr>\n    <tr>\n      <th>18</th>\n      <td>8.0</td>\n      <td>8.0</td>\n      <td>9.0</td>\n    </tr>\n    <tr>\n      <th>19</th>\n      <td>15.0</td>\n      <td>20.0</td>\n      <td>14.0</td>\n    </tr>\n    <tr>\n      <th>20</th>\n      <td>4.0</td>\n      <td>5.0</td>\n      <td>6.0</td>\n    </tr>\n    <tr>\n      <th>21</th>\n      <td>3.0</td>\n      <td>3.0</td>\n      <td>3.0</td>\n    </tr>\n    <tr>\n      <th>22</th>\n      <td>4.0</td>\n      <td>4.0</td>\n      <td>2.0</td>\n    </tr>\n    <tr>\n      <th>23</th>\n      <td>3.0</td>\n      <td>4.0</td>\n      <td>3.0</td>\n    </tr>\n    <tr>\n      <th>24</th>\n      <td>1.0</td>\n      <td>3.0</td>\n      <td>3.0</td>\n    </tr>\n    <tr>\n      <th>25</th>\n      <td>2.0</td>\n      <td>1.0</td>\n      <td>1.0</td>\n    </tr>\n    <tr>\n      <th>26</th>\n      <td>2.0</td>\n      <td>2.0</td>\n      <td>2.0</td>\n    </tr>\n    <tr>\n      <th>27</th>\n      <td>4.0</td>\n      <td>3.0</td>\n      <td>2.0</td>\n    </tr>\n    <tr>\n      <th>28</th>\n      <td>3.0</td>\n      <td>4.0</td>\n      <td>4.0</td>\n    </tr>\n    <tr>\n      <th>29</th>\n      <td>4.0</td>\n      <td>2.0</td>\n      <td>2.0</td>\n    </tr>\n    <tr>\n      <th>31</th>\n      <td>NaN</td>\n      <td>2.0</td>\n      <td>2.0</td>\n    </tr>\n    <tr>\n      <th>32</th>\n      <td>NaN</td>\n      <td>1.0</td>\n      <td>3.0</td>\n    </tr>\n    <tr>\n      <th>33</th>\n      <td>2.0</td>\n      <td>3.0</td>\n      <td>2.0</td>\n    </tr>\n    <tr>\n      <th>34</th>\n      <td>NaN</td>\n      <td>1.0</td>\n      <td>1.0</td>\n    </tr>\n    <tr>\n      <th>37</th>\n      <td>NaN</td>\n      <td>1.0</td>\n      <td>1.0</td>\n    </tr>\n    <tr>\n      <th>38</th>\n      <td>NaN</td>\n      <td>1.0</td>\n      <td>1.0</td>\n    </tr>\n    <tr>\n      <th>39</th>\n      <td>1.0</td>\n      <td>1.0</td>\n      <td>1.0</td>\n    </tr>\n    <tr>\n      <th>40</th>\n      <td>1.0</td>\n      <td>1.0</td>\n      <td>1.0</td>\n    </tr>\n    <tr>\n      <th>41</th>\n      <td>NaN</td>\n      <td>1.0</td>\n      <td>1.0</td>\n    </tr>\n    <tr>\n      <th>44</th>\n      <td>NaN</td>\n      <td>1.0</td>\n      <td>1.0</td>\n    </tr>\n    <tr>\n      <th>45</th>\n      <td>NaN</td>\n      <td>1.0</td>\n      <td>1.0</td>\n    </tr>\n    <tr>\n      <th>49</th>\n      <td>NaN</td>\n      <td>1.0</td>\n      <td>1.0</td>\n    </tr>\n    <tr>\n      <th>53</th>\n      <td>NaN</td>\n      <td>1.0</td>\n      <td>1.0</td>\n    </tr>\n    <tr>\n      <th>54</th>\n      <td>NaN</td>\n      <td>1.0</td>\n      <td>1.0</td>\n    </tr>\n  </tbody>\n</table>\n</div>"
     },
     "execution_count": 10,
     "metadata": {},
     "output_type": "execute_result"
    }
   ]
  },
  {
   "cell_type": "code",
   "source": [
    "sns.barplot(x=\"ParkingSpaceCount\",y= \"Count\", hue=\"Year\", order=range(0, 30), data=result)"
   ],
   "metadata": {
    "collapsed": false,
    "pycharm": {
     "name": "#%%\n"
    }
   },
   "execution_count": 11,
   "outputs": [
    {
     "data": {
      "text/plain": "<AxesSubplot:xlabel='ParkingSpaceCount', ylabel='Count'>"
     },
     "execution_count": 11,
     "metadata": {},
     "output_type": "execute_result"
    },
    {
     "data": {
      "text/plain": "<Figure size 432x288 with 1 Axes>",
      "image/png": "[encoded data removed]"
     },
     "metadata": {
      "needs_background": "light"
     },
     "output_type": "display_data"
    }
   ]
  },
  {
   "cell_type": "markdown",
   "source": [
    "## Parking Time Limit"
   ],
   "metadata": {
    "collapsed": false,
    "pycharm": {
     "name": "#%% md\n"
    }
   }
  },
  {
   "cell_type": "code",
   "source": [
    "result = pd.pivot_table(df['all'], index=['Year', 'ParkingTimeLimitCategory'],\n",
    "                        aggfunc='count').iloc[:,0].reset_index().rename(columns={'BlockfaceName':'Count'})\n",
    "result.pivot(index='ParkingTimeLimitCategory', columns='Year', values='Count')"
   ],
   "metadata": {
    "collapsed": false,
    "pycharm": {
     "name": "#%%\n"
    }
   },
   "execution_count": 12,
   "outputs": [
    {
     "data": {
      "text/plain": "Year                       2018   2019   2020\nParkingTimeLimitCategory                     \n30.0                       14.0   15.0   14.0\n120.0                     956.0  972.0  941.0\n240.0                     417.0  413.0  383.0\n600.0                     120.0  113.0  103.0\n4320.0                      NaN   10.0   10.0",
      "text/html": "<div>\n<style scoped>\n    .dataframe tbody tr th:only-of-type {\n        vertical-align: middle;\n    }\n\n    .dataframe tbody tr th {\n        vertical-align: top;\n    }\n\n    .dataframe thead th {\n        text-align: right;\n    }\n</style>\n<table border=\"1\" class=\"dataframe\">\n  <thead>\n    <tr style=\"text-align: right;\">\n      <th>Year</th>\n      <th>2018</th>\n      <th>2019</th>\n      <th>2020</th>\n    </tr>\n    <tr>\n      <th>ParkingTimeLimitCategory</th>\n      <th></th>\n      <th></th>\n      <th></th>\n    </tr>\n  </thead>\n  <tbody>\n    <tr>\n      <th>30.0</th>\n      <td>14.0</td>\n      <td>15.0</td>\n      <td>14.0</td>\n    </tr>\n    <tr>\n      <th>120.0</th>\n      <td>956.0</td>\n      <td>972.0</td>\n      <td>941.0</td>\n    </tr>\n    <tr>\n      <th>240.0</th>\n      <td>417.0</td>\n      <td>413.0</td>\n      <td>383.0</td>\n    </tr>\n    <tr>\n      <th>600.0</th>\n      <td>120.0</td>\n      <td>113.0</td>\n      <td>103.0</td>\n    </tr>\n    <tr>\n      <th>4320.0</th>\n      <td>NaN</td>\n      <td>10.0</td>\n      <td>10.0</td>\n    </tr>\n  </tbody>\n</table>\n</div>"
     },
     "execution_count": 12,
     "metadata": {},
     "output_type": "execute_result"
    }
   ]
  },
  {
   "cell_type": "code",
   "execution_count": 13,
   "outputs": [
    {
     "data": {
      "text/plain": "<Figure size 432x288 with 1 Axes>",
      "image/png": "[encoded data removed]"
     },
     "metadata": {
      "needs_background": "light"
     },
     "output_type": "display_data"
    }
   ],
   "source": [
    "ax = sns.barplot(x=\"ParkingTimeLimitCategory\", y=\"Count\", hue=\"Year\", data=result)"
   ],
   "metadata": {
    "collapsed": false,
    "pycharm": {
     "name": "#%%\n"
    }
   }
  },
  {
   "cell_type": "markdown",
   "source": [
    "## New or Missing Parking Lot"
   ],
   "metadata": {
    "collapsed": false,
    "pycharm": {
     "name": "#%% md\n"
    }
   }
  },
  {
   "cell_type": "code",
   "execution_count": 14,
   "outputs": [],
   "source": [
    "# in 2018, all parking lots are considered as same before\n",
    "df_diff2018 = pd.DataFrame({'Type':['Same'],'SourceElementKey':[len(df[2018])],'Year':[2018]})\n",
    "\n",
    "# calcuate the difference between 2018 and 2019.\n",
    "df_diff2018_2019 = df[2018][['SourceElementKey']].merge(df[2019][['SourceElementKey']], how='outer', indicator=True)\n",
    "df_diff2018_2019 = df_diff2018_2019.groupby('_merge').count().rename(\n",
    "    index={'left_only':'Removed',\n",
    "           'right_only':'Added',\n",
    "           'both':'Same'}).reset_index().rename(columns={'_merge':'Type'})\n",
    "df_diff2018_2019['Year'] = 2019\n",
    "\n",
    "# calcuate the difference between 2018 and 2019.\n",
    "df_diff2019_2020 = df[2019][['SourceElementKey']].merge(df[2020][['SourceElementKey']], how='outer', indicator=True)\n",
    "df_diff2019_2020 = df_diff2019_2020.groupby('_merge').count().rename(\n",
    "    index={'left_only':'Removed',\n",
    "           'right_only':'Added',\n",
    "           'both':'Same'}).reset_index().rename(columns={'_merge':'Type'})\n",
    "df_diff2019_2020['Year'] = 2020"
   ],
   "metadata": {
    "collapsed": false,
    "pycharm": {
     "name": "#%%\n"
    }
   }
  },
  {
   "cell_type": "code",
   "execution_count": 15,
   "outputs": [
    {
     "data": {
      "text/plain": "   Year     Type  Count\n0  2018     Same   1509\n1  2019  Removed    -36\n2  2019    Added     51\n3  2019     Same   1473\n4  2020  Removed    -85\n5  2020    Added     14\n6  2020     Same   1439",
      "text/html": "<div>\n<style scoped>\n    .dataframe tbody tr th:only-of-type {\n        vertical-align: middle;\n    }\n\n    .dataframe tbody tr th {\n        vertical-align: top;\n    }\n\n    .dataframe thead th {\n        text-align: right;\n    }\n</style>\n<table border=\"1\" class=\"dataframe\">\n  <thead>\n    <tr style=\"text-align: right;\">\n      <th></th>\n      <th>Year</th>\n      <th>Type</th>\n      <th>Count</th>\n    </tr>\n  </thead>\n  <tbody>\n    <tr>\n      <th>0</th>\n      <td>2018</td>\n      <td>Same</td>\n      <td>1509</td>\n    </tr>\n    <tr>\n      <th>1</th>\n      <td>2019</td>\n      <td>Removed</td>\n      <td>-36</td>\n    </tr>\n    <tr>\n      <th>2</th>\n      <td>2019</td>\n      <td>Added</td>\n      <td>51</td>\n    </tr>\n    <tr>\n      <th>3</th>\n      <td>2019</td>\n      <td>Same</td>\n      <td>1473</td>\n    </tr>\n    <tr>\n      <th>4</th>\n      <td>2020</td>\n      <td>Removed</td>\n      <td>-85</td>\n    </tr>\n    <tr>\n      <th>5</th>\n      <td>2020</td>\n      <td>Added</td>\n      <td>14</td>\n    </tr>\n    <tr>\n      <th>6</th>\n      <td>2020</td>\n      <td>Same</td>\n      <td>1439</td>\n    </tr>\n  </tbody>\n</table>\n</div>"
     },
     "execution_count": 15,
     "metadata": {},
     "output_type": "execute_result"
    }
   ],
   "source": [
    "# merge 3 dataframe\n",
    "df_diff = pd.concat([df_diff2018, df_diff2018_2019, df_diff2019_2020], ignore_index=True)\n",
    "df_diff = df_diff.reindex(columns=['Year','Type','SourceElementKey']).rename(columns={'SourceElementKey':'Count'})\n",
    "\n",
    "# if 'Removed', change count to negative\n",
    "df_diff = df_diff.apply(lambda row: [row['Year'], row['Type'], row['Count']*-1] if row['Type'] == 'Removed'\n",
    "     else row[['Year', 'Type', 'Count']], axis=1)\n",
    "\n",
    "df_diff"
   ],
   "metadata": {
    "collapsed": false,
    "pycharm": {
     "name": "#%%\n"
    }
   }
  },
  {
   "cell_type": "code",
   "execution_count": 16,
   "outputs": [
    {
     "data": {
      "text/plain": "<AxesSubplot:xlabel='Count', ylabel='Year'>"
     },
     "execution_count": 16,
     "metadata": {},
     "output_type": "execute_result"
    },
    {
     "data": {
      "text/plain": "<Figure size 432x288 with 1 Axes>",
      "image/png": "[encoded data removed]"
     },
     "metadata": {
      "needs_background": "light"
     },
     "output_type": "display_data"
    }
   ],
   "source": [
    "sns.barplot(data=df_diff.loc[lambda x: x['Type']!='Same'], y='Year', x='Count', hue='Type', orient='h')"
   ],
   "metadata": {
    "collapsed": false,
    "pycharm": {
     "name": "#%%\n"
    }
   }
  },
  {
   "cell_type": "code",
   "execution_count": 16,
   "outputs": [],
   "source": [],
   "metadata": {
    "collapsed": false,
    "pycharm": {
     "name": "#%%\n"
    }
   }
  }
 ],
 "metadata": {
  "kernelspec": {
   "display_name": "Python 3",
   "language": "python",
   "name": "python3"
  },
  "language_info": {
   "codemirror_mode": {
    "name": "ipython",
    "version": 2
   },
   "file_extension": ".py",
   "mimetype": "text/x-python",
   "name": "python",
   "nbconvert_exporter": "python",
   "pygments_lexer": "ipython2",
   "version": "2.7.6"
  }
 },
 "nbformat": 4,
 "nbformat_minor": 0
}